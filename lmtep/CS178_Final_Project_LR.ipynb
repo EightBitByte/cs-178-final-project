{
 "cells": [
  {
   "cell_type": "markdown",
   "id": "6bc202a9-d8f1-4666-a0e6-28507b40d8b5",
   "metadata": {},
   "source": [
    "# Import Libraries"
   ]
  },
  {
   "cell_type": "code",
   "execution_count": 1,
   "id": "e88582b7-cafb-4885-b206-22231572badf",
   "metadata": {},
   "outputs": [],
   "source": [
    "import math\n",
    "import numpy as np\n",
    "import pandas as pd\n",
    "import matplotlib.pyplot as plt\n",
    "\n",
    "from sklearn.linear_model import LogisticRegression\n",
    "from sklearn.feature_extraction.text import CountVectorizer\n",
    "from sklearn.feature_extraction.text import TfidfVectorizer\n",
    "from sklearn.model_selection import train_test_split\n",
    "from sklearn.preprocessing import StandardScaler\n",
    "from sklearn.metrics import accuracy_score, roc_auc_score\n",
    "from datasets import load_dataset\n",
    "\n",
    "import time\n",
    "# Fix the random seed for reproducibility\n",
    "# !! Important !! : do not change this\n",
    "seed = 1234\n",
    "np.random.seed(seed)  "
   ]
  },
  {
   "cell_type": "code",
   "execution_count": 2,
   "id": "071e642f-9ef1-41a7-8b17-6738aabe9d58",
   "metadata": {},
   "outputs": [
    {
     "name": "stderr",
     "output_type": "stream",
     "text": [
      "[nltk_data] Downloading package punkt to\n",
      "[nltk_data]     C:\\Users\\tepla\\AppData\\Roaming\\nltk_data...\n",
      "[nltk_data]   Package punkt is already up-to-date!\n",
      "[nltk_data] Downloading package averaged_perceptron_tagger to\n",
      "[nltk_data]     C:\\Users\\tepla\\AppData\\Roaming\\nltk_data...\n",
      "[nltk_data]   Package averaged_perceptron_tagger is already up-to-\n",
      "[nltk_data]       date!\n",
      "[nltk_data] Downloading package universal_tagset to\n",
      "[nltk_data]     C:\\Users\\tepla\\AppData\\Roaming\\nltk_data...\n",
      "[nltk_data]   Package universal_tagset is already up-to-date!\n"
     ]
    }
   ],
   "source": [
    "#import simplejson as json\n",
    "import nltk \n",
    "nltk.download('punkt')\n",
    "nltk.download('averaged_perceptron_tagger')\n",
    "nltk.download('universal_tagset')\n",
    "from nltk import word_tokenize"
   ]
  },
  {
   "cell_type": "markdown",
   "id": "b2e6988c-80df-406d-9db6-0c751bfe3478",
   "metadata": {},
   "source": [
    "# Create Data"
   ]
  },
  {
   "cell_type": "markdown",
   "id": "e96a60ca-c8f1-4bec-9455-a1e2ea24f4f5",
   "metadata": {},
   "source": [
    "## Get datasets and vectorizers"
   ]
  },
  {
   "cell_type": "code",
   "execution_count": 3,
   "id": "e113535b-7731-4b09-a3e7-d2825e97044d",
   "metadata": {},
   "outputs": [],
   "source": [
    "def get_data(): \n",
    "    \n",
    "    train_data = load_dataset('imdb', split='train')\n",
    "    train_df = pd.DataFrame(train_data)[['text', 'label']].dropna()\n",
    "    test_data = load_dataset('imdb', split='test')\n",
    "    test_df = pd.DataFrame(test_data)[['text', 'label']].dropna()\n",
    "        \n",
    "    print('Total number of train data extracted =', len(train_data))\n",
    "    print('Total number of test data extracted =', len(test_data))\n",
    "\n",
    "    print('Extracting tokens from each review.....(can be slow for a large number of reviews)......')   \n",
    "    # do not consider reviews with scores above max_neg and below min_pos (these reviews will be dropped)\n",
    "\n",
    "    return train_df['text'].tolist(), train_df['label'], test_df['text'].tolist(), test_df['label']\n",
    "    # create an instance of a CountVectorizer, using \n",
    "    # (1) the standard 'english' stopword set \n",
    "    # (2) only keeping terms in the vocabulary that occur in at least 1% of documents\n",
    "    # (3) allowing only unigrams in the vocabulary (use \"ngram_range=(1, 1)\" to do this)\n",
    "    '''\n",
    "    vectorizer = TfidfVectorizer(stop_words='english', min_df=0.005, ngram_range=(1, 3))\n",
    "\n",
    "    # create a sparse BOW array from 'text' using vectorizer\n",
    "    X_train = vectorizer.fit_transform(train_df['text'].tolist())\n",
    "    y_train = train_df['label']\n",
    " \n",
    "    print('Train Data shape: ', X_train.shape[0])\n",
    "\n",
    "    X_test = vectorizer.transform(test_df['text'].tolist())\n",
    "    y_test = test_df['label']\n",
    "    print('Train Data shape: ', X_train.shape[0])\n",
    "    \n",
    "    # you can uncomment this next line if you want to see the full list of tokens in the vocabulary  \n",
    "    #print('Vocabulary: ', vectorizer.get_feature_names())\n",
    " \n",
    "    return X_train, y_train, X_test, y_test, test_df['text'].tolist(), train_df['text'].tolist(), vectorizer \n",
    "    '''"
   ]
  },
  {
   "cell_type": "code",
   "execution_count": 4,
   "id": "81bb569b-9725-4506-bb1c-3506ba9fac8e",
   "metadata": {},
   "outputs": [
    {
     "name": "stdout",
     "output_type": "stream",
     "text": [
      "Total number of train data extracted = 25000\n",
      "Total number of test data extracted = 25000\n",
      "Extracting tokens from each review.....(can be slow for a large number of reviews)......\n"
     ]
    }
   ],
   "source": [
    "train_text, train_label, test_text, test_label = get_data()"
   ]
  },
  {
   "cell_type": "markdown",
   "id": "643252d0-1e86-4b90-adcb-1ff6e517e5e2",
   "metadata": {},
   "source": [
    "## Validation"
   ]
  },
  {
   "cell_type": "code",
   "execution_count": 5,
   "id": "b292ea4e-727e-40cd-9713-e41b63cc606e",
   "metadata": {},
   "outputs": [],
   "source": [
    "vectorizer_configs = [\n",
    "    {'type': 'count', 'ngram_range': (1, 1), 'min_df': 0.05},\n",
    "    {'type': 'count', 'ngram_range': (1, 1), 'min_df': 0.02},\n",
    "    {'type': 'count', 'ngram_range': (1, 1), 'min_df': 0.01},\n",
    "    {'type': 'count', 'ngram_range': (1, 2), 'min_df': 0.05},\n",
    "    {'type': 'count', 'ngram_range': (1, 2), 'min_df': 0.02},\n",
    "    {'type': 'count', 'ngram_range': (1, 2), 'min_df': 0.01},\n",
    "    {'type': 'count', 'ngram_range': (1, 3), 'min_df': 0.05},\n",
    "    {'type': 'count', 'ngram_range': (1, 3), 'min_df': 0.02},\n",
    "    {'type': 'count', 'ngram_range': (1, 3), 'min_df': 0.01},\n",
    "    {'type': 'tfidf', 'ngram_range': (1, 1), 'min_df': 0.05},\n",
    "    {'type': 'tfidf', 'ngram_range': (1, 1), 'min_df': 0.02},\n",
    "    {'type': 'tfidf', 'ngram_range': (1, 1), 'min_df': 0.01},\n",
    "    {'type': 'tfidf', 'ngram_range': (1, 2), 'min_df': 0.05},\n",
    "    {'type': 'tfidf', 'ngram_range': (1, 2), 'min_df': 0.02},\n",
    "    {'type': 'tfidf', 'ngram_range': (1, 2), 'min_df': 0.01},\n",
    "    {'type': 'tfidf', 'ngram_range': (1, 3), 'min_df': 0.05},\n",
    "    {'type': 'tfidf', 'ngram_range': (1, 3), 'min_df': 0.02},\n",
    "    {'type': 'tfidf', 'ngram_range': (1, 3), 'min_df': 0.01},\n",
    "]\n",
    "\n",
    "penalty_list = ['l2', None]\n",
    "solver_list = ['lbfgs', 'newton-cg', 'newton-cholesky']"
   ]
  },
  {
   "cell_type": "code",
   "execution_count": 6,
   "id": "01235c80-96ae-4a7b-944f-425d7bc8415b",
   "metadata": {},
   "outputs": [
    {
     "name": "stdout",
     "output_type": "stream",
     "text": [
      "\n",
      "Trying config: {'type': 'count', 'ngram_range': (1, 1), 'min_df': 0.05}\n",
      "\n",
      "Trying penalty: l2\n",
      "\n",
      "Trying solver: lbfgs\n",
      "Validation Accuracy: 0.8090\n",
      "\n",
      "Trying solver: newton-cg\n",
      "Validation Accuracy: 0.8086\n",
      "\n",
      "Trying solver: newton-cholesky\n",
      "Validation Accuracy: 0.8086\n",
      "\n",
      "Trying penalty: None\n",
      "\n",
      "Trying solver: lbfgs\n",
      "Validation Accuracy: 0.8088\n",
      "\n",
      "Trying solver: newton-cg\n",
      "Validation Accuracy: 0.8086\n",
      "\n",
      "Trying solver: newton-cholesky\n",
      "Validation Accuracy: 0.8086\n",
      "\n",
      "Trying config: {'type': 'count', 'ngram_range': (1, 1), 'min_df': 0.02}\n",
      "\n",
      "Trying penalty: l2\n",
      "\n",
      "Trying solver: lbfgs\n",
      "Validation Accuracy: 0.8421\n",
      "\n",
      "Trying solver: newton-cg\n",
      "Validation Accuracy: 0.8419\n",
      "\n",
      "Trying solver: newton-cholesky\n",
      "Validation Accuracy: 0.8419\n",
      "\n",
      "Trying penalty: None\n",
      "\n",
      "Trying solver: lbfgs\n",
      "Validation Accuracy: 0.8413\n",
      "\n",
      "Trying solver: newton-cg\n",
      "Validation Accuracy: 0.8418\n",
      "\n",
      "Trying solver: newton-cholesky\n",
      "Validation Accuracy: 0.8418\n",
      "\n",
      "Trying config: {'type': 'count', 'ngram_range': (1, 1), 'min_df': 0.01}\n",
      "\n",
      "Trying penalty: l2\n",
      "\n",
      "Trying solver: lbfgs\n"
     ]
    },
    {
     "name": "stderr",
     "output_type": "stream",
     "text": [
      "D:\\anaconda3\\Lib\\site-packages\\sklearn\\linear_model\\_logistic.py:469: ConvergenceWarning: lbfgs failed to converge (status=1):\n",
      "STOP: TOTAL NO. of ITERATIONS REACHED LIMIT.\n",
      "\n",
      "Increase the number of iterations (max_iter) or scale the data as shown in:\n",
      "    https://scikit-learn.org/stable/modules/preprocessing.html\n",
      "Please also refer to the documentation for alternative solver options:\n",
      "    https://scikit-learn.org/stable/modules/linear_model.html#logistic-regression\n",
      "  n_iter_i = _check_optimize_result(\n"
     ]
    },
    {
     "name": "stdout",
     "output_type": "stream",
     "text": [
      "Validation Accuracy: 0.8512\n",
      "\n",
      "Trying solver: newton-cg\n",
      "Validation Accuracy: 0.8510\n",
      "\n",
      "Trying solver: newton-cholesky\n",
      "Validation Accuracy: 0.8510\n",
      "\n",
      "Trying penalty: None\n",
      "\n",
      "Trying solver: lbfgs\n"
     ]
    },
    {
     "name": "stderr",
     "output_type": "stream",
     "text": [
      "D:\\anaconda3\\Lib\\site-packages\\sklearn\\linear_model\\_logistic.py:469: ConvergenceWarning: lbfgs failed to converge (status=1):\n",
      "STOP: TOTAL NO. of ITERATIONS REACHED LIMIT.\n",
      "\n",
      "Increase the number of iterations (max_iter) or scale the data as shown in:\n",
      "    https://scikit-learn.org/stable/modules/preprocessing.html\n",
      "Please also refer to the documentation for alternative solver options:\n",
      "    https://scikit-learn.org/stable/modules/linear_model.html#logistic-regression\n",
      "  n_iter_i = _check_optimize_result(\n"
     ]
    },
    {
     "name": "stdout",
     "output_type": "stream",
     "text": [
      "Validation Accuracy: 0.8493\n",
      "\n",
      "Trying solver: newton-cg\n",
      "Validation Accuracy: 0.8491\n",
      "\n",
      "Trying solver: newton-cholesky\n",
      "Validation Accuracy: 0.8490\n",
      "\n",
      "Trying config: {'type': 'count', 'ngram_range': (1, 2), 'min_df': 0.05}\n",
      "\n",
      "Trying penalty: l2\n",
      "\n",
      "Trying solver: lbfgs\n"
     ]
    },
    {
     "name": "stderr",
     "output_type": "stream",
     "text": [
      "D:\\anaconda3\\Lib\\site-packages\\sklearn\\linear_model\\_logistic.py:469: ConvergenceWarning: lbfgs failed to converge (status=1):\n",
      "STOP: TOTAL NO. of ITERATIONS REACHED LIMIT.\n",
      "\n",
      "Increase the number of iterations (max_iter) or scale the data as shown in:\n",
      "    https://scikit-learn.org/stable/modules/preprocessing.html\n",
      "Please also refer to the documentation for alternative solver options:\n",
      "    https://scikit-learn.org/stable/modules/linear_model.html#logistic-regression\n",
      "  n_iter_i = _check_optimize_result(\n"
     ]
    },
    {
     "name": "stdout",
     "output_type": "stream",
     "text": [
      "Validation Accuracy: 0.8080\n",
      "\n",
      "Trying solver: newton-cg\n",
      "Validation Accuracy: 0.8078\n",
      "\n",
      "Trying solver: newton-cholesky\n",
      "Validation Accuracy: 0.8078\n",
      "\n",
      "Trying penalty: None\n",
      "\n",
      "Trying solver: lbfgs\n"
     ]
    },
    {
     "name": "stderr",
     "output_type": "stream",
     "text": [
      "D:\\anaconda3\\Lib\\site-packages\\sklearn\\linear_model\\_logistic.py:469: ConvergenceWarning: lbfgs failed to converge (status=1):\n",
      "STOP: TOTAL NO. of ITERATIONS REACHED LIMIT.\n",
      "\n",
      "Increase the number of iterations (max_iter) or scale the data as shown in:\n",
      "    https://scikit-learn.org/stable/modules/preprocessing.html\n",
      "Please also refer to the documentation for alternative solver options:\n",
      "    https://scikit-learn.org/stable/modules/linear_model.html#logistic-regression\n",
      "  n_iter_i = _check_optimize_result(\n"
     ]
    },
    {
     "name": "stdout",
     "output_type": "stream",
     "text": [
      "Validation Accuracy: 0.8082\n",
      "\n",
      "Trying solver: newton-cg\n",
      "Validation Accuracy: 0.8078\n",
      "\n",
      "Trying solver: newton-cholesky\n",
      "Validation Accuracy: 0.8078\n",
      "\n",
      "Trying config: {'type': 'count', 'ngram_range': (1, 2), 'min_df': 0.02}\n",
      "\n",
      "Trying penalty: l2\n",
      "\n",
      "Trying solver: lbfgs\n"
     ]
    },
    {
     "name": "stderr",
     "output_type": "stream",
     "text": [
      "D:\\anaconda3\\Lib\\site-packages\\sklearn\\linear_model\\_logistic.py:469: ConvergenceWarning: lbfgs failed to converge (status=1):\n",
      "STOP: TOTAL NO. of ITERATIONS REACHED LIMIT.\n",
      "\n",
      "Increase the number of iterations (max_iter) or scale the data as shown in:\n",
      "    https://scikit-learn.org/stable/modules/preprocessing.html\n",
      "Please also refer to the documentation for alternative solver options:\n",
      "    https://scikit-learn.org/stable/modules/linear_model.html#logistic-regression\n",
      "  n_iter_i = _check_optimize_result(\n"
     ]
    },
    {
     "name": "stdout",
     "output_type": "stream",
     "text": [
      "Validation Accuracy: 0.8434\n",
      "\n",
      "Trying solver: newton-cg\n",
      "Validation Accuracy: 0.8435\n",
      "\n",
      "Trying solver: newton-cholesky\n",
      "Validation Accuracy: 0.8437\n",
      "\n",
      "Trying penalty: None\n",
      "\n",
      "Trying solver: lbfgs\n"
     ]
    },
    {
     "name": "stderr",
     "output_type": "stream",
     "text": [
      "D:\\anaconda3\\Lib\\site-packages\\sklearn\\linear_model\\_logistic.py:469: ConvergenceWarning: lbfgs failed to converge (status=1):\n",
      "STOP: TOTAL NO. of ITERATIONS REACHED LIMIT.\n",
      "\n",
      "Increase the number of iterations (max_iter) or scale the data as shown in:\n",
      "    https://scikit-learn.org/stable/modules/preprocessing.html\n",
      "Please also refer to the documentation for alternative solver options:\n",
      "    https://scikit-learn.org/stable/modules/linear_model.html#logistic-regression\n",
      "  n_iter_i = _check_optimize_result(\n"
     ]
    },
    {
     "name": "stdout",
     "output_type": "stream",
     "text": [
      "Validation Accuracy: 0.8440\n",
      "\n",
      "Trying solver: newton-cg\n",
      "Validation Accuracy: 0.8437\n",
      "\n",
      "Trying solver: newton-cholesky\n",
      "Validation Accuracy: 0.8434\n",
      "\n",
      "Trying config: {'type': 'count', 'ngram_range': (1, 2), 'min_df': 0.01}\n",
      "\n",
      "Trying penalty: l2\n",
      "\n",
      "Trying solver: lbfgs\n"
     ]
    },
    {
     "name": "stderr",
     "output_type": "stream",
     "text": [
      "D:\\anaconda3\\Lib\\site-packages\\sklearn\\linear_model\\_logistic.py:469: ConvergenceWarning: lbfgs failed to converge (status=1):\n",
      "STOP: TOTAL NO. of ITERATIONS REACHED LIMIT.\n",
      "\n",
      "Increase the number of iterations (max_iter) or scale the data as shown in:\n",
      "    https://scikit-learn.org/stable/modules/preprocessing.html\n",
      "Please also refer to the documentation for alternative solver options:\n",
      "    https://scikit-learn.org/stable/modules/linear_model.html#logistic-regression\n",
      "  n_iter_i = _check_optimize_result(\n"
     ]
    },
    {
     "name": "stdout",
     "output_type": "stream",
     "text": [
      "Validation Accuracy: 0.8482\n",
      "\n",
      "Trying solver: newton-cg\n",
      "Validation Accuracy: 0.8488\n",
      "\n",
      "Trying solver: newton-cholesky\n",
      "Validation Accuracy: 0.8485\n",
      "\n",
      "Trying penalty: None\n",
      "\n",
      "Trying solver: lbfgs\n"
     ]
    },
    {
     "name": "stderr",
     "output_type": "stream",
     "text": [
      "D:\\anaconda3\\Lib\\site-packages\\sklearn\\linear_model\\_logistic.py:469: ConvergenceWarning: lbfgs failed to converge (status=1):\n",
      "STOP: TOTAL NO. of ITERATIONS REACHED LIMIT.\n",
      "\n",
      "Increase the number of iterations (max_iter) or scale the data as shown in:\n",
      "    https://scikit-learn.org/stable/modules/preprocessing.html\n",
      "Please also refer to the documentation for alternative solver options:\n",
      "    https://scikit-learn.org/stable/modules/linear_model.html#logistic-regression\n",
      "  n_iter_i = _check_optimize_result(\n"
     ]
    },
    {
     "name": "stdout",
     "output_type": "stream",
     "text": [
      "Validation Accuracy: 0.8464\n",
      "\n",
      "Trying solver: newton-cg\n",
      "Validation Accuracy: 0.8464\n",
      "\n",
      "Trying solver: newton-cholesky\n",
      "Validation Accuracy: 0.8462\n",
      "\n",
      "Trying config: {'type': 'count', 'ngram_range': (1, 3), 'min_df': 0.05}\n",
      "\n",
      "Trying penalty: l2\n",
      "\n",
      "Trying solver: lbfgs\n"
     ]
    },
    {
     "name": "stderr",
     "output_type": "stream",
     "text": [
      "D:\\anaconda3\\Lib\\site-packages\\sklearn\\linear_model\\_logistic.py:469: ConvergenceWarning: lbfgs failed to converge (status=1):\n",
      "STOP: TOTAL NO. of ITERATIONS REACHED LIMIT.\n",
      "\n",
      "Increase the number of iterations (max_iter) or scale the data as shown in:\n",
      "    https://scikit-learn.org/stable/modules/preprocessing.html\n",
      "Please also refer to the documentation for alternative solver options:\n",
      "    https://scikit-learn.org/stable/modules/linear_model.html#logistic-regression\n",
      "  n_iter_i = _check_optimize_result(\n"
     ]
    },
    {
     "name": "stdout",
     "output_type": "stream",
     "text": [
      "Validation Accuracy: 0.8080\n",
      "\n",
      "Trying solver: newton-cg\n",
      "Validation Accuracy: 0.8078\n",
      "\n",
      "Trying solver: newton-cholesky\n",
      "Validation Accuracy: 0.8078\n",
      "\n",
      "Trying penalty: None\n",
      "\n",
      "Trying solver: lbfgs\n"
     ]
    },
    {
     "name": "stderr",
     "output_type": "stream",
     "text": [
      "D:\\anaconda3\\Lib\\site-packages\\sklearn\\linear_model\\_logistic.py:469: ConvergenceWarning: lbfgs failed to converge (status=1):\n",
      "STOP: TOTAL NO. of ITERATIONS REACHED LIMIT.\n",
      "\n",
      "Increase the number of iterations (max_iter) or scale the data as shown in:\n",
      "    https://scikit-learn.org/stable/modules/preprocessing.html\n",
      "Please also refer to the documentation for alternative solver options:\n",
      "    https://scikit-learn.org/stable/modules/linear_model.html#logistic-regression\n",
      "  n_iter_i = _check_optimize_result(\n"
     ]
    },
    {
     "name": "stdout",
     "output_type": "stream",
     "text": [
      "Validation Accuracy: 0.8082\n",
      "\n",
      "Trying solver: newton-cg\n",
      "Validation Accuracy: 0.8078\n",
      "\n",
      "Trying solver: newton-cholesky\n"
     ]
    },
    {
     "name": "stderr",
     "output_type": "stream",
     "text": [
      "D:\\anaconda3\\Lib\\site-packages\\sklearn\\linear_model\\_glm\\_newton_solver.py:497: LinAlgWarning: The inner solver of NewtonCholeskySolver stumbled upon a singular or very ill-conditioned Hessian matrix at iteration #1. It will now resort to lbfgs instead.\n",
      "Further options are to use another solver or to avoid such situation in the first place. Possible remedies are removing collinear features of X or increasing the penalization strengths.\n",
      "The original Linear Algebra message was:\n",
      "Ill-conditioned matrix (rcond=1.77081e-21): result may not be accurate.\n",
      "  warnings.warn(\n",
      "D:\\anaconda3\\Lib\\site-packages\\sklearn\\linear_model\\_glm\\_newton_solver.py:194: ConvergenceWarning: lbfgs failed to converge (status=1):\n",
      "STOP: TOTAL NO. of ITERATIONS REACHED LIMIT.\n",
      "\n",
      "Increase the number of iterations (max_iter) or scale the data as shown in:\n",
      "    https://scikit-learn.org/stable/modules/preprocessing.html\n",
      "  self.n_iter_ = _check_optimize_result(\"lbfgs\", opt_res)\n"
     ]
    },
    {
     "name": "stdout",
     "output_type": "stream",
     "text": [
      "Validation Accuracy: 0.8082\n",
      "\n",
      "Trying config: {'type': 'count', 'ngram_range': (1, 3), 'min_df': 0.02}\n",
      "\n",
      "Trying penalty: l2\n",
      "\n",
      "Trying solver: lbfgs\n",
      "Validation Accuracy: 0.8438\n",
      "\n",
      "Trying solver: newton-cg\n",
      "Validation Accuracy: 0.8435\n",
      "\n",
      "Trying solver: newton-cholesky\n",
      "Validation Accuracy: 0.8437\n",
      "\n",
      "Trying penalty: None\n",
      "\n",
      "Trying solver: lbfgs\n"
     ]
    },
    {
     "name": "stderr",
     "output_type": "stream",
     "text": [
      "D:\\anaconda3\\Lib\\site-packages\\sklearn\\linear_model\\_logistic.py:469: ConvergenceWarning: lbfgs failed to converge (status=1):\n",
      "STOP: TOTAL NO. of ITERATIONS REACHED LIMIT.\n",
      "\n",
      "Increase the number of iterations (max_iter) or scale the data as shown in:\n",
      "    https://scikit-learn.org/stable/modules/preprocessing.html\n",
      "Please also refer to the documentation for alternative solver options:\n",
      "    https://scikit-learn.org/stable/modules/linear_model.html#logistic-regression\n",
      "  n_iter_i = _check_optimize_result(\n"
     ]
    },
    {
     "name": "stdout",
     "output_type": "stream",
     "text": [
      "Validation Accuracy: 0.8434\n",
      "\n",
      "Trying solver: newton-cg\n",
      "Validation Accuracy: 0.8437\n",
      "\n",
      "Trying solver: newton-cholesky\n"
     ]
    },
    {
     "name": "stderr",
     "output_type": "stream",
     "text": [
      "D:\\anaconda3\\Lib\\site-packages\\sklearn\\linear_model\\_glm\\_newton_solver.py:497: LinAlgWarning: The inner solver of NewtonCholeskySolver stumbled upon a singular or very ill-conditioned Hessian matrix at iteration #1. It will now resort to lbfgs instead.\n",
      "Further options are to use another solver or to avoid such situation in the first place. Possible remedies are removing collinear features of X or increasing the penalization strengths.\n",
      "The original Linear Algebra message was:\n",
      "Ill-conditioned matrix (rcond=2.32218e-22): result may not be accurate.\n",
      "  warnings.warn(\n",
      "D:\\anaconda3\\Lib\\site-packages\\sklearn\\linear_model\\_glm\\_newton_solver.py:194: ConvergenceWarning: lbfgs failed to converge (status=1):\n",
      "STOP: TOTAL NO. of ITERATIONS REACHED LIMIT.\n",
      "\n",
      "Increase the number of iterations (max_iter) or scale the data as shown in:\n",
      "    https://scikit-learn.org/stable/modules/preprocessing.html\n",
      "  self.n_iter_ = _check_optimize_result(\"lbfgs\", opt_res)\n"
     ]
    },
    {
     "name": "stdout",
     "output_type": "stream",
     "text": [
      "Validation Accuracy: 0.8434\n",
      "\n",
      "Trying config: {'type': 'count', 'ngram_range': (1, 3), 'min_df': 0.01}\n",
      "\n",
      "Trying penalty: l2\n",
      "\n",
      "Trying solver: lbfgs\n"
     ]
    },
    {
     "name": "stderr",
     "output_type": "stream",
     "text": [
      "D:\\anaconda3\\Lib\\site-packages\\sklearn\\linear_model\\_logistic.py:469: ConvergenceWarning: lbfgs failed to converge (status=1):\n",
      "STOP: TOTAL NO. of ITERATIONS REACHED LIMIT.\n",
      "\n",
      "Increase the number of iterations (max_iter) or scale the data as shown in:\n",
      "    https://scikit-learn.org/stable/modules/preprocessing.html\n",
      "Please also refer to the documentation for alternative solver options:\n",
      "    https://scikit-learn.org/stable/modules/linear_model.html#logistic-regression\n",
      "  n_iter_i = _check_optimize_result(\n"
     ]
    },
    {
     "name": "stdout",
     "output_type": "stream",
     "text": [
      "Validation Accuracy: 0.8483\n",
      "\n",
      "Trying solver: newton-cg\n",
      "Validation Accuracy: 0.8488\n",
      "\n",
      "Trying solver: newton-cholesky\n",
      "Validation Accuracy: 0.8486\n",
      "\n",
      "Trying penalty: None\n",
      "\n",
      "Trying solver: lbfgs\n"
     ]
    },
    {
     "name": "stderr",
     "output_type": "stream",
     "text": [
      "D:\\anaconda3\\Lib\\site-packages\\sklearn\\linear_model\\_logistic.py:469: ConvergenceWarning: lbfgs failed to converge (status=1):\n",
      "STOP: TOTAL NO. of ITERATIONS REACHED LIMIT.\n",
      "\n",
      "Increase the number of iterations (max_iter) or scale the data as shown in:\n",
      "    https://scikit-learn.org/stable/modules/preprocessing.html\n",
      "Please also refer to the documentation for alternative solver options:\n",
      "    https://scikit-learn.org/stable/modules/linear_model.html#logistic-regression\n",
      "  n_iter_i = _check_optimize_result(\n"
     ]
    },
    {
     "name": "stdout",
     "output_type": "stream",
     "text": [
      "Validation Accuracy: 0.8464\n",
      "\n",
      "Trying solver: newton-cg\n",
      "Validation Accuracy: 0.8464\n",
      "\n",
      "Trying solver: newton-cholesky\n"
     ]
    },
    {
     "name": "stderr",
     "output_type": "stream",
     "text": [
      "D:\\anaconda3\\Lib\\site-packages\\sklearn\\linear_model\\_glm\\_newton_solver.py:497: LinAlgWarning: The inner solver of NewtonCholeskySolver stumbled upon a singular or very ill-conditioned Hessian matrix at iteration #1. It will now resort to lbfgs instead.\n",
      "Further options are to use another solver or to avoid such situation in the first place. Possible remedies are removing collinear features of X or increasing the penalization strengths.\n",
      "The original Linear Algebra message was:\n",
      "Ill-conditioned matrix (rcond=4.09626e-40): result may not be accurate.\n",
      "  warnings.warn(\n",
      "D:\\anaconda3\\Lib\\site-packages\\sklearn\\linear_model\\_glm\\_newton_solver.py:194: ConvergenceWarning: lbfgs failed to converge (status=1):\n",
      "STOP: TOTAL NO. of ITERATIONS REACHED LIMIT.\n",
      "\n",
      "Increase the number of iterations (max_iter) or scale the data as shown in:\n",
      "    https://scikit-learn.org/stable/modules/preprocessing.html\n",
      "  self.n_iter_ = _check_optimize_result(\"lbfgs\", opt_res)\n"
     ]
    },
    {
     "name": "stdout",
     "output_type": "stream",
     "text": [
      "Validation Accuracy: 0.8464\n",
      "\n",
      "Trying config: {'type': 'tfidf', 'ngram_range': (1, 1), 'min_df': 0.05}\n",
      "\n",
      "Trying penalty: l2\n",
      "\n",
      "Trying solver: lbfgs\n",
      "Validation Accuracy: 0.8091\n",
      "\n",
      "Trying solver: newton-cg\n",
      "Validation Accuracy: 0.8090\n",
      "\n",
      "Trying solver: newton-cholesky\n",
      "Validation Accuracy: 0.8088\n",
      "\n",
      "Trying penalty: None\n",
      "\n",
      "Trying solver: lbfgs\n",
      "Validation Accuracy: 0.8074\n",
      "\n",
      "Trying solver: newton-cg\n",
      "Validation Accuracy: 0.8080\n",
      "\n",
      "Trying solver: newton-cholesky\n",
      "Validation Accuracy: 0.8080\n",
      "\n",
      "Trying config: {'type': 'tfidf', 'ngram_range': (1, 1), 'min_df': 0.02}\n",
      "\n",
      "Trying penalty: l2\n",
      "\n",
      "Trying solver: lbfgs\n",
      "Validation Accuracy: 0.8472\n",
      "\n",
      "Trying solver: newton-cg\n",
      "Validation Accuracy: 0.8470\n",
      "\n",
      "Trying solver: newton-cholesky\n",
      "Validation Accuracy: 0.8472\n",
      "\n",
      "Trying penalty: None\n",
      "\n",
      "Trying solver: lbfgs\n",
      "Validation Accuracy: 0.8434\n",
      "\n",
      "Trying solver: newton-cg\n",
      "Validation Accuracy: 0.8443\n",
      "\n",
      "Trying solver: newton-cholesky\n",
      "Validation Accuracy: 0.8437\n",
      "\n",
      "Trying config: {'type': 'tfidf', 'ngram_range': (1, 1), 'min_df': 0.01}\n",
      "\n",
      "Trying penalty: l2\n",
      "\n",
      "Trying solver: lbfgs\n",
      "Validation Accuracy: 0.8606\n",
      "\n",
      "Trying solver: newton-cg\n",
      "Validation Accuracy: 0.8600\n",
      "\n",
      "Trying solver: newton-cholesky\n",
      "Validation Accuracy: 0.8602\n",
      "\n",
      "Trying penalty: None\n",
      "\n",
      "Trying solver: lbfgs\n",
      "Validation Accuracy: 0.8518\n",
      "\n",
      "Trying solver: newton-cg\n",
      "Validation Accuracy: 0.8522\n",
      "\n",
      "Trying solver: newton-cholesky\n",
      "Validation Accuracy: 0.8512\n",
      "\n",
      "Trying config: {'type': 'tfidf', 'ngram_range': (1, 2), 'min_df': 0.05}\n",
      "\n",
      "Trying penalty: l2\n",
      "\n",
      "Trying solver: lbfgs\n",
      "Validation Accuracy: 0.8093\n",
      "\n",
      "Trying solver: newton-cg\n",
      "Validation Accuracy: 0.8091\n",
      "\n",
      "Trying solver: newton-cholesky\n",
      "Validation Accuracy: 0.8091\n",
      "\n",
      "Trying penalty: None\n",
      "\n",
      "Trying solver: lbfgs\n",
      "Validation Accuracy: 0.8083\n",
      "\n",
      "Trying solver: newton-cg\n",
      "Validation Accuracy: 0.8083\n",
      "\n",
      "Trying solver: newton-cholesky\n",
      "Validation Accuracy: 0.8082\n",
      "\n",
      "Trying config: {'type': 'tfidf', 'ngram_range': (1, 2), 'min_df': 0.02}\n",
      "\n",
      "Trying penalty: l2\n",
      "\n",
      "Trying solver: lbfgs\n",
      "Validation Accuracy: 0.8491\n",
      "\n",
      "Trying solver: newton-cg\n",
      "Validation Accuracy: 0.8491\n",
      "\n",
      "Trying solver: newton-cholesky\n",
      "Validation Accuracy: 0.8491\n",
      "\n",
      "Trying penalty: None\n",
      "\n",
      "Trying solver: lbfgs\n",
      "Validation Accuracy: 0.8438\n",
      "\n",
      "Trying solver: newton-cg\n",
      "Validation Accuracy: 0.8445\n",
      "\n",
      "Trying solver: newton-cholesky\n",
      "Validation Accuracy: 0.8445\n",
      "\n",
      "Trying config: {'type': 'tfidf', 'ngram_range': (1, 2), 'min_df': 0.01}\n",
      "\n",
      "Trying penalty: l2\n",
      "\n",
      "Trying solver: lbfgs\n",
      "Validation Accuracy: 0.8616\n",
      "\n",
      "Trying solver: newton-cg\n",
      "Validation Accuracy: 0.8606\n",
      "\n",
      "Trying solver: newton-cholesky\n",
      "Validation Accuracy: 0.8606\n",
      "\n",
      "Trying penalty: None\n",
      "\n",
      "Trying solver: lbfgs\n",
      "Validation Accuracy: 0.8507\n",
      "\n",
      "Trying solver: newton-cg\n",
      "Validation Accuracy: 0.8499\n",
      "\n",
      "Trying solver: newton-cholesky\n",
      "Validation Accuracy: 0.8493\n",
      "\n",
      "Trying config: {'type': 'tfidf', 'ngram_range': (1, 3), 'min_df': 0.05}\n",
      "\n",
      "Trying penalty: l2\n",
      "\n",
      "Trying solver: lbfgs\n",
      "Validation Accuracy: 0.8091\n",
      "\n",
      "Trying solver: newton-cg\n",
      "Validation Accuracy: 0.8090\n",
      "\n",
      "Trying solver: newton-cholesky\n",
      "Validation Accuracy: 0.8090\n",
      "\n",
      "Trying penalty: None\n",
      "\n",
      "Trying solver: lbfgs\n",
      "Validation Accuracy: 0.8078\n",
      "\n",
      "Trying solver: newton-cg\n",
      "Validation Accuracy: 0.8082\n",
      "\n",
      "Trying solver: newton-cholesky\n"
     ]
    },
    {
     "name": "stderr",
     "output_type": "stream",
     "text": [
      "D:\\anaconda3\\Lib\\site-packages\\sklearn\\linear_model\\_glm\\_newton_solver.py:497: LinAlgWarning: The inner solver of NewtonCholeskySolver stumbled upon a singular or very ill-conditioned Hessian matrix at iteration #1. It will now resort to lbfgs instead.\n",
      "Further options are to use another solver or to avoid such situation in the first place. Possible remedies are removing collinear features of X or increasing the penalization strengths.\n",
      "The original Linear Algebra message was:\n",
      "Ill-conditioned matrix (rcond=5.00286e-21): result may not be accurate.\n",
      "  warnings.warn(\n"
     ]
    },
    {
     "name": "stdout",
     "output_type": "stream",
     "text": [
      "Validation Accuracy: 0.8078\n",
      "\n",
      "Trying config: {'type': 'tfidf', 'ngram_range': (1, 3), 'min_df': 0.02}\n",
      "\n",
      "Trying penalty: l2\n",
      "\n",
      "Trying solver: lbfgs\n",
      "Validation Accuracy: 0.8486\n",
      "\n",
      "Trying solver: newton-cg\n",
      "Validation Accuracy: 0.8486\n",
      "\n",
      "Trying solver: newton-cholesky\n",
      "Validation Accuracy: 0.8490\n",
      "\n",
      "Trying penalty: None\n",
      "\n",
      "Trying solver: lbfgs\n",
      "Validation Accuracy: 0.8443\n",
      "\n",
      "Trying solver: newton-cg\n",
      "Validation Accuracy: 0.8446\n",
      "\n",
      "Trying solver: newton-cholesky\n"
     ]
    },
    {
     "name": "stderr",
     "output_type": "stream",
     "text": [
      "D:\\anaconda3\\Lib\\site-packages\\sklearn\\linear_model\\_glm\\_newton_solver.py:497: LinAlgWarning: The inner solver of NewtonCholeskySolver stumbled upon a singular or very ill-conditioned Hessian matrix at iteration #1. It will now resort to lbfgs instead.\n",
      "Further options are to use another solver or to avoid such situation in the first place. Possible remedies are removing collinear features of X or increasing the penalization strengths.\n",
      "The original Linear Algebra message was:\n",
      "Ill-conditioned matrix (rcond=1.87525e-21): result may not be accurate.\n",
      "  warnings.warn(\n"
     ]
    },
    {
     "name": "stdout",
     "output_type": "stream",
     "text": [
      "Validation Accuracy: 0.8443\n",
      "\n",
      "Trying config: {'type': 'tfidf', 'ngram_range': (1, 3), 'min_df': 0.01}\n",
      "\n",
      "Trying penalty: l2\n",
      "\n",
      "Trying solver: lbfgs\n",
      "Validation Accuracy: 0.8619\n",
      "\n",
      "Trying solver: newton-cg\n",
      "Validation Accuracy: 0.8613\n",
      "\n",
      "Trying solver: newton-cholesky\n",
      "Validation Accuracy: 0.8613\n",
      "\n",
      "Trying penalty: None\n",
      "\n",
      "Trying solver: lbfgs\n",
      "Validation Accuracy: 0.8509\n",
      "\n",
      "Trying solver: newton-cg\n",
      "Validation Accuracy: 0.8498\n",
      "\n",
      "Trying solver: newton-cholesky\n",
      "Validation Accuracy: 0.8509\n"
     ]
    },
    {
     "name": "stderr",
     "output_type": "stream",
     "text": [
      "D:\\anaconda3\\Lib\\site-packages\\sklearn\\linear_model\\_glm\\_newton_solver.py:497: LinAlgWarning: The inner solver of NewtonCholeskySolver stumbled upon a singular or very ill-conditioned Hessian matrix at iteration #1. It will now resort to lbfgs instead.\n",
      "Further options are to use another solver or to avoid such situation in the first place. Possible remedies are removing collinear features of X or increasing the penalization strengths.\n",
      "The original Linear Algebra message was:\n",
      "Ill-conditioned matrix (rcond=1.17615e-39): result may not be accurate.\n",
      "  warnings.warn(\n"
     ]
    }
   ],
   "source": [
    "X_train_text, X_val_text, y_train, y_val = train_test_split(train_text, train_label, test_size=0.25, random_state=seed)\n",
    "\n",
    "best_acc = 0\n",
    "best_config = None\n",
    "best_vectorizer = None\n",
    "best_penalty = None\n",
    "best_solver = None\n",
    "\n",
    "for config in vectorizer_configs:\n",
    "    print(f\"\\nTrying config: {config}\")\n",
    "    \n",
    "    # Choose vectorizer type\n",
    "    if config['type'] == 'count':\n",
    "        vectorizer = CountVectorizer(stop_words='english', \n",
    "                                     ngram_range=config['ngram_range'], \n",
    "                                     min_df=config['min_df'])\n",
    "    else:\n",
    "        vectorizer = TfidfVectorizer(stop_words='english', \n",
    "                                     ngram_range=config['ngram_range'], \n",
    "                                     min_df=config['min_df'])\n",
    "\n",
    "    # Fit on training text\n",
    "    X_train = vectorizer.fit_transform(X_train_text)\n",
    "    X_val = vectorizer.transform(X_val_text)\n",
    "\n",
    "    # Train classifier\n",
    "    for penalty in penalty_list:\n",
    "        print(f\"\\nTrying penalty: {penalty}\")\n",
    "        \n",
    "        for solver in solver_list:\n",
    "            print(f\"\\nTrying solver: {solver}\")\n",
    "            \n",
    "            clf = LogisticRegression(penalty=penalty, solver=solver)\n",
    "            clf.fit(X_train, y_train)\n",
    "        \n",
    "            # Validation accuracy\n",
    "            val_acc = accuracy_score(y_val, clf.predict(X_val))\n",
    "            print(f\"Validation Accuracy: {val_acc:.4f}\")\n",
    "        \n",
    "            # Track best\n",
    "            if val_acc > best_acc:\n",
    "                best_acc = val_acc\n",
    "                best_config = config\n",
    "                best_penalty = penalty\n",
    "                best_solver = solver\n",
    "                best_vectorizer = vectorizer"
   ]
  },
  {
   "cell_type": "markdown",
   "id": "221aac65-f664-4ab1-895c-e46f5f887b78",
   "metadata": {},
   "source": [
    "## Create train and test sets"
   ]
  },
  {
   "cell_type": "code",
   "execution_count": 7,
   "id": "e5c7beea-ad2f-49ad-ac1a-82b331a9a867",
   "metadata": {},
   "outputs": [
    {
     "name": "stdout",
     "output_type": "stream",
     "text": [
      "Best Config: {'type': 'tfidf', 'ngram_range': (1, 3), 'min_df': 0.01}\n",
      "Best Penalty: l2\n",
      "Best Solver: lbfgs\n"
     ]
    }
   ],
   "source": [
    "print(\"Best Config:\", best_config)\n",
    "print(\"Best Penalty:\", best_penalty)\n",
    "print(\"Best Solver:\", best_solver)\n",
    "\n",
    "# Fit vectorizer on entire training set\n",
    "X_train_set = best_vectorizer.fit_transform(train_text)\n",
    "y_train_set = train_label\n",
    "\n",
    "X_test_set = best_vectorizer.transform(test_text)\n",
    "y_test_set = test_label"
   ]
  },
  {
   "cell_type": "markdown",
   "id": "1ef1377e-e017-4c84-9ec8-4ae6e9ceb8aa",
   "metadata": {},
   "source": [
    "## Get classifier"
   ]
  },
  {
   "cell_type": "code",
   "execution_count": 8,
   "id": "916c66b4-9715-4fb5-8959-86c897531713",
   "metadata": {},
   "outputs": [],
   "source": [
    "def logistic_classification(X_train, y_train, X_test, y_test): \n",
    "    classifier = LogisticRegression(penalty=best_penalty, solver=best_solver, fit_intercept=True)\n",
    "\n",
    "    print('\\nTraining a model with', X_train.shape[0], 'examples.....')\n",
    "    classifier.fit(X_train, y_train)\n",
    "    \n",
    "    train_accuracy = accuracy_score(y_train, classifier.predict(X_train))\n",
    "    print('\\nTraining accuracy:', format(100 * train_accuracy, '.2f'))\n",
    "\n",
    "    test_accuracy = accuracy_score(y_test, classifier.predict(X_test))\n",
    "    print('\\nTesting accuracy:', format(100 * test_accuracy, '.2f'))\n",
    "\n",
    "    return classifier, train_accuracy, test_accuracy"
   ]
  },
  {
   "cell_type": "code",
   "execution_count": 9,
   "id": "003e9286-04bc-47c8-9549-6035b97959b8",
   "metadata": {},
   "outputs": [
    {
     "name": "stdout",
     "output_type": "stream",
     "text": [
      "\n",
      "Training a model with 25000 examples.....\n",
      "\n",
      "Training accuracy: 88.98\n",
      "\n",
      "Testing accuracy: 86.92\n"
     ]
    }
   ],
   "source": [
    "logistic_classifier, _, _= logistic_classification(X_train_set, y_train_set, X_test_set, y_test_set)"
   ]
  },
  {
   "cell_type": "markdown",
   "id": "da1234ff-ffea-4dc6-b77b-973b8c0038d0",
   "metadata": {},
   "source": [
    "# Data analysis"
   ]
  },
  {
   "cell_type": "markdown",
   "id": "fa50fece-caf1-4e8a-9301-29ec747648a6",
   "metadata": {},
   "source": [
    "## Histogram"
   ]
  },
  {
   "cell_type": "code",
   "execution_count": 10,
   "id": "c57a5d73-19eb-4082-94cf-f34ad305a48f",
   "metadata": {},
   "outputs": [],
   "source": [
    "def review_word_count_histgram(X):\n",
    "    '''\n",
    "    X:  [# feature vectors, # features], feature vectors\n",
    "    '''\n",
    "    ### YOUR CODE STARTS HERE ###\n",
    "\n",
    "    word_count = X.getnnz(axis=1)\n",
    "\n",
    "    plt.figure(figsize=(8, 5))\n",
    "    plt.hist(word_count, bins=30)\n",
    "    plt.show()\n",
    "    ### YOUR CODE ENDS HERE ###"
   ]
  },
  {
   "cell_type": "code",
   "execution_count": 11,
   "id": "6ab427f0-0310-4c8f-9757-fcc59d7164d3",
   "metadata": {},
   "outputs": [
    {
     "data": {
      "image/png": "[encoded data removed]",
      "text/plain": [
       "<Figure size 800x500 with 1 Axes>"
      ]
     },
     "metadata": {},
     "output_type": "display_data"
    },
    {
     "data": {
      "image/png": "[encoded data removed]",
      "text/plain": [
       "<Figure size 800x500 with 1 Axes>"
      ]
     },
     "metadata": {},
     "output_type": "display_data"
    }
   ],
   "source": [
    "review_word_count_histgram(X_train_set)\n",
    "review_word_count_histgram(X_test_set)"
   ]
  },
  {
   "cell_type": "markdown",
   "id": "ab736b59-6c65-4d4d-9d3a-87c6d0c51f03",
   "metadata": {},
   "source": [
    "## Most significant terms"
   ]
  },
  {
   "cell_type": "code",
   "execution_count": 12,
   "id": "80d0453b-1192-4e17-b4e6-d3d6526608b0",
   "metadata": {},
   "outputs": [],
   "source": [
    "def most_significant_terms(classifier, vectorizer, K):\n",
    "    # cycle through the positive weights, in the order of largest weight first and print out\n",
    "    # K lines where each line contains\n",
    "    # (a) the term corresponding to the weight (a string)\n",
    "    # (b) the weight value itself (a scalar printed to 3 decimal places)\n",
    "\n",
    "    ### YOUR CODE STARTS HERE ###\n",
    "    # extract coefficients from trained model and sort based on coefficient\n",
    "    feature_importance = classifier.coef_[0]\n",
    "    # the index of sorted coefficient\n",
    "    sorted_idx = np.argsort(feature_importance)\n",
    "    # extract topK positive terms\n",
    "    topK_pos_terms = [list(vectorizer.vocabulary_.keys())[list(vectorizer.vocabulary_.values()).index(w)] for w in\n",
    "                      sorted_idx[-K:]][::-1]\n",
    "    # extract corresponding weights\n",
    "    topK_pos_weights = np.round(np.array([feature_importance[w] for w in sorted_idx[-K:][::-1]]), decimals=3)\n",
    "\n",
    "    topK_neg_terms = [list(vectorizer.vocabulary_.keys())[list(vectorizer.vocabulary_.values()).index(w)] for w in\n",
    "                      sorted_idx[:K]]\n",
    "    topK_neg_weights = np.round(np.array([feature_importance[w] for w in sorted_idx[:K]]), decimals=3)\n",
    "\n",
    "    ### YOUR CODE ENDS HERE ###\n",
    "    print('topK_pos_weights', topK_pos_weights)\n",
    "    print('topK_pos_terms', topK_pos_terms)\n",
    "    print('topK_neg_weights', topK_neg_weights)\n",
    "    print('topK_neg_terms',topK_neg_terms)\n",
    "    return topK_pos_weights, topK_pos_terms, topK_neg_weights, topK_neg_terms"
   ]
  },
  {
   "cell_type": "code",
   "execution_count": 13,
   "id": "76766408-8372-4d66-b256-d37cc65bbdc3",
   "metadata": {},
   "outputs": [
    {
     "name": "stdout",
     "output_type": "stream",
     "text": [
      "topK_pos_weights [5.83  5.751 4.747 4.743 4.664 4.236 4.233 3.59  3.51  3.486]\n",
      "topK_pos_terms ['excellent', 'great', 'best', 'perfect', 'wonderful', 'amazing', 'favorite', 'loved', 'today', 'superb']\n",
      "topK_neg_weights [-8.793 -6.504 -5.855 -5.753 -5.428 -4.863 -4.858 -4.838 -4.768 -4.545]\n",
      "topK_neg_terms ['worst', 'awful', 'bad', 'waste', 'boring', 'poor', 'worse', 'dull', 'poorly', 'disappointment']\n"
     ]
    }
   ],
   "source": [
    "topK_pos_weights, topK_pos_terms, topK_neg_weights, topK_neg_terms = most_significant_terms(logistic_classifier, best_vectorizer, K=10)"
   ]
  },
  {
   "cell_type": "markdown",
   "id": "597cc1a9-a393-4556-a41d-f14f5bc6bbb6",
   "metadata": {},
   "source": [
    "## Accuracy vs reguralization strength"
   ]
  },
  {
   "cell_type": "code",
   "execution_count": 14,
   "id": "db992a8d-d32a-42c2-93b9-01359a758e3d",
   "metadata": {},
   "outputs": [],
   "source": [
    "def accuracy_vs_reg(X_train, y_train, X_test, y_test):\n",
    "    # log initialization\n",
    "    coefs_ = []\n",
    "    train_accuracies = []\n",
    "    test_accuracies = []\n",
    "    cs = [0, 0.1, 1, 10, 50]\n",
    "\n",
    "    ### YOUR CODE STARTS HERE ###\n",
    "    for c in cs:\n",
    "        # Specify the logistic classifier model\n",
    "        if c == 0:\n",
    "            classifier = LogisticRegression(penalty=None, fit_intercept=True)\n",
    "        else:\n",
    "            # Refer https://scikit-learn.org/stable/modules/generated/sklearn.linear_model.LogisticRegression.html\n",
    "            # to see which argument can adjust the regularization strength,\n",
    "            # Additionally, please use 'l1' penalty type, 'liblinear' solver and enable fit_intercept\n",
    "            classifier = LogisticRegression(penalty=best_penalty, solver=best_solver, C=c, fit_intercept=True)\n",
    "\n",
    "        classifier.fit(X_train, y_train.values.ravel())\n",
    "\n",
    "        # log model coefficients\n",
    "        coefs_.append(classifier.coef_)\n",
    "\n",
    "        # Training\n",
    "        train_predictions = classifier.predict(X_train)\n",
    "        train_accuracy = accuracy_score(y_train, train_predictions)\n",
    "        train_accuracies.append(train_accuracy)\n",
    "        \n",
    "        # Testing: compute and print accuracy and AUC on the test data\n",
    "        test_predictions = classifier.predict(X_test)\n",
    "        test_accuracy = accuracy_score(y_test, test_predictions)\n",
    "        test_accuracies.append(test_accuracy)\n",
    "\n",
    "    ### YOUR CODE ENDS HERE ###\n",
    "    fig, axes = plt.subplots()\n",
    "    axes.xaxis.set_inverted(True)\n",
    "    axes.semilogx(cs, train_accuracies, color='red', label='training accuracy')\n",
    "    axes.semilogx(cs, test_accuracies, color='blue', label='testing accuracy')\n",
    "    \n",
    "    axes.set_xlabel('regularization strength', fontsize=14)\n",
    "    axes.set_ylabel('accuracy', fontsize=14)\n",
    "    \n",
    "    axes.legend()\n",
    "\n",
    "    return train_accuracies, test_accuracies, coefs_"
   ]
  },
  {
   "cell_type": "code",
   "execution_count": 15,
   "id": "35ef8bee-1c52-44e8-ac1d-aa44dc8b864a",
   "metadata": {},
   "outputs": [
    {
     "data": {
      "image/png": "[encoded data removed]",
      "text/plain": [
       "<Figure size 640x480 with 1 Axes>"
      ]
     },
     "metadata": {},
     "output_type": "display_data"
    }
   ],
   "source": [
    "train_accuracies, test_accuracies, coefs = accuracy_vs_reg(X_train_set, y_train_set, X_test_set, y_test_set)"
   ]
  },
  {
   "cell_type": "markdown",
   "id": "d1e5816e-c56e-4044-95b3-22df2fadd730",
   "metadata": {},
   "source": [
    "## Time per 1000 examples"
   ]
  },
  {
   "cell_type": "code",
   "execution_count": 16,
   "id": "6d9d6fae-b279-47e9-930a-8064b41dd001",
   "metadata": {},
   "outputs": [
    {
     "name": "stdout",
     "output_type": "stream",
     "text": [
      "Total time taken: 0.005001068115234375 seconds\n",
      "Avg prediction time per examples: 0.00020 milliseconds\n"
     ]
    }
   ],
   "source": [
    "start_time = time.time()\n",
    "logistic_classifier.predict(X_test_set)\n",
    "end_time = time.time()\n",
    "\n",
    "total_time = (end_time - start_time)\n",
    "avg_time = total_time / X_test_set.shape[0]\n",
    "print(f\"Total time taken: {total_time} seconds\")\n",
    "print(f\"Avg prediction time per examples: {avg_time * 1000:.5f} milliseconds\")"
   ]
  },
  {
   "cell_type": "code",
   "execution_count": 17,
   "id": "1bd46c7f-a8ce-4693-bf35-68b209c56cd2",
   "metadata": {},
   "outputs": [
    {
     "name": "stdout",
     "output_type": "stream",
     "text": [
      "AUC: 0.9437343359999998\n",
      "Confusion Matrix:\n",
      "[[10735  1765]\n",
      " [ 1506 10994]]\n",
      "Classification Report:\n",
      "              precision    recall  f1-score   support\n",
      "\n",
      "           0       0.88      0.86      0.87     12500\n",
      "           1       0.86      0.88      0.87     12500\n",
      "\n",
      "    accuracy                           0.87     25000\n",
      "   macro avg       0.87      0.87      0.87     25000\n",
      "weighted avg       0.87      0.87      0.87     25000\n",
      "\n"
     ]
    }
   ],
   "source": [
    "from sklearn.metrics import confusion_matrix, classification_report, roc_auc_score, roc_curve\n",
    "\n",
    "y_proba = logistic_classifier.predict_proba(X_test_set)[:, 1]\n",
    "print(\"AUC:\", roc_auc_score(y_test_set, y_proba))\n",
    "\n",
    "print(\"Confusion Matrix:\")\n",
    "print(confusion_matrix(y_test_set, logistic_classifier.predict(X_test_set)))\n",
    "\n",
    "print(\"Classification Report:\")\n",
    "print(classification_report(y_test_set, logistic_classifier.predict(X_test_set)))"
   ]
  },
  {
   "cell_type": "code",
   "execution_count": 18,
   "id": "0f1cfd16-7efc-453a-9225-778918fefff3",
   "metadata": {},
   "outputs": [
    {
     "data": {
      "image/png": "[encoded data removed]",
      "text/plain": [
       "<Figure size 640x480 with 1 Axes>"
      ]
     },
     "metadata": {},
     "output_type": "display_data"
    }
   ],
   "source": [
    "fpr, tpr, _ = roc_curve(y_test_set, y_proba)\n",
    "plt.plot(fpr, tpr, label=f'AUC = {roc_auc_score(y_test_set, y_proba):.2f}')\n",
    "plt.plot([0, 1], [0, 1])\n",
    "plt.xlabel(\"False Positive Rate\")\n",
    "plt.ylabel(\"True Positive Rate\")\n",
    "plt.title(\"ROC Curve\")\n",
    "plt.legend()\n",
    "plt.show()"
   ]
  },
  {
   "cell_type": "code",
   "execution_count": 19,
   "id": "9256d590-62f7-4bff-a16e-074556b2e3ee",
   "metadata": {},
   "outputs": [
    {
     "name": "stdout",
     "output_type": "stream",
     "text": [
      "False Positive Example:\n",
      "First off let me say, If you haven't enjoyed a Van Damme movie since bloodsport, you probably will not like this movie. Most of these movies may not have the best plots or best actors but I enjoy these kinds of movies for what they are. This movie is much better than any of the movies the other action guys (Segal and Dolph) have thought about putting out the past few years. Van Damme is good in the movie, the movie is only worth watching to Van Damme fans. It is not as good as Wake of Death (which i highly recommend to anyone of likes Van Damme) or In hell but, in my opinion it's worth watching. It has the same type of feel to it as Nowhere to Run. Good fun stuff!\n",
      "\n",
      "False Negative Example:\n",
      "It is more a subtle story of the fact that in Indian household how most decisions are taken by the man, how no attention is paid to the desires of the lady, for example how even when the husband and wife sleep together it would be a test for the husband whether he can control his desires, not to give the woman pleasure. And in such a type of scenario, women invariably have two choices, either to accept all this and take it into their own life, which is usually the case or not accept this and try to mould things to satisfy themselves, which makes a movie!<br /><br />Fire is a brilliantly directed story of the second option, which women choose for themselves, no sacrifice, not to serve anybody else, rather a decision for their own good. Somehow the whole idea of justifying lesbianism didn't find an acceptance in the Indian audience but if one looks the whole movie from an angle of self-expression, then the whole debate doesn't even arise.\n"
     ]
    }
   ],
   "source": [
    "false_positives = np.where((y_test_set == 0) & (logistic_classifier.predict(X_test_set) == 1))[0]\n",
    "false_negatives = np.where((y_test_set == 1) & (logistic_classifier.predict(X_test_set) == 0))[0]\n",
    "\n",
    "# Print examples\n",
    "print(\"False Positive Example:\")\n",
    "print(test_text[false_positives[0]])\n",
    "\n",
    "print()\n",
    "\n",
    "print(\"False Negative Example:\")\n",
    "print(test_text[false_negatives[0]])"
   ]
  },
  {
   "cell_type": "code",
   "execution_count": 20,
   "id": "3fdfadb1-4178-4cde-a381-6f35d04c7acc",
   "metadata": {},
   "outputs": [
    {
     "data": {
      "image/png": "[encoded data removed]",
      "text/plain": [
       "<Figure size 640x480 with 1 Axes>"
      ]
     },
     "metadata": {},
     "output_type": "display_data"
    }
   ],
   "source": [
    "from sklearn.calibration import calibration_curve\n",
    "\n",
    "prob_true, prob_pred = calibration_curve(y_test_set, y_proba, n_bins=10)\n",
    "\n",
    "plt.plot(prob_pred, prob_true, marker='o')\n",
    "plt.plot([0, 1], [0, 1], linestyle='--')\n",
    "plt.xlabel(\"Mean predicted probability\")\n",
    "plt.ylabel(\"Fraction of positives\")\n",
    "plt.title(\"Calibration Curve\")\n",
    "plt.show()"
   ]
  },
  {
   "cell_type": "code",
   "execution_count": null,
   "id": "a4a00806-9664-481e-9516-91b9b144ecfb",
   "metadata": {},
   "outputs": [],
   "source": []
  }
 ],
 "metadata": {
  "kernelspec": {
   "display_name": "Python (cs178_env)",
   "language": "python",
   "name": "cs178_env"
  },
  "language_info": {
   "codemirror_mode": {
    "name": "ipython",
    "version": 3
   },
   "file_extension": ".py",
   "mimetype": "text/x-python",
   "name": "python",
   "nbconvert_exporter": "python",
   "pygments_lexer": "ipython3",
   "version": "3.12.3"
  },
  "widgets": {
   "application/vnd.jupyter.widget-state+json": {
    "state": {},
    "version_major": 2,
    "version_minor": 0
   }
  }
 },
 "nbformat": 4,
 "nbformat_minor": 5
}
